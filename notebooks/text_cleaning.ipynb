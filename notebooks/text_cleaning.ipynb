{
 "cells": [
  {
   "cell_type": "code",
   "execution_count": null,
   "id": "fa0b5719",
   "metadata": {},
   "outputs": [],
   "source": [
    "!pip install spacy\n",
    "!python -m spacy download en_core_web_sm"
   ]
  },
  {
   "cell_type": "code",
   "execution_count": null,
   "id": "bab86910",
   "metadata": {},
   "outputs": [],
   "source": [
    "# 📓 Resume Text Cleaning and JD Matching\n",
    "\n",
    "import pandas as pd\n",
    "import re\n",
    "import spacy\n",
    "from sklearn.feature_extraction.text import TfidfVectorizer\n",
    "from sklearn.metrics.pairwise import cosine_similarity"
   ]
  },
  {
   "cell_type": "code",
   "execution_count": null,
   "id": "1002cdac",
   "metadata": {},
   "outputs": [],
   "source": [
    "nlp = spacy.load(\"en_core_web_sm\")\n",
    "\n"
   ]
  },
  {
   "cell_type": "code",
   "execution_count": null,
   "id": "b3df461e",
   "metadata": {},
   "outputs": [],
   "source": [
    "def clean_text(text):\n",
    "    # Lowercase and remove special characters\n",
    "    text = text.lower()\n",
    "    text = re.sub(r'[^\\w\\s]', '', text)\n",
    "    return text\n"
   ]
  },
  {
   "cell_type": "code",
   "execution_count": null,
   "id": "771e3e58",
   "metadata": {},
   "outputs": [],
   "source": [
    "def extract_keywords(text):\n",
    "    doc = nlp(text)\n",
    "    return [ent.text for ent in doc.ents if ent.label_ in [\"ORG\", \"PERSON\", \"SKILL\", \"WORK_OF_ART\"]]"
   ]
  },
  {
   "cell_type": "code",
   "execution_count": null,
   "id": "53f1d365",
   "metadata": {},
   "outputs": [],
   "source": [
    "# Sample JD\n",
    "jd = \"\"\"\n",
    "We are looking for a skilled Python developer with experience in machine learning, natural language processing (NLP), and REST API integration. Familiarity with spaCy, Scikit-learn, and Flask is preferred.\n",
    "\"\"\""
   ]
  },
  {
   "cell_type": "code",
   "execution_count": null,
   "id": "c0922983",
   "metadata": {},
   "outputs": [],
   "source": [
    "# Sample resumes\n",
    "resumes = [\n",
    "    \"I am a Python developer with 3 years experience in NLP and building REST APIs. I've used Flask, Scikit-learn and spaCy in various projects.\",\n",
    "    \"Experienced front-end developer with React, Vue.js and some exposure to backend APIs. No NLP or Python skills.\",\n",
    "    \"Junior data analyst with some Python experience and basic ML understanding using scikit-learn.\"\n",
    "]"
   ]
  },
  {
   "cell_type": "code",
   "execution_count": null,
   "id": "f0d91c60",
   "metadata": {},
   "outputs": [],
   "source": [
    "# Clean everything\n",
    "jd_clean = clean_text(jd)\n",
    "resumes_clean = [clean_text(r) for r in resumes]"
   ]
  },
  {
   "cell_type": "code",
   "execution_count": null,
   "id": "0d644a35",
   "metadata": {},
   "outputs": [],
   "source": [
    "# TF-IDF\n",
    "vectorizer = TfidfVectorizer()\n",
    "all_docs = [jd_clean] + resumes_clean\n",
    "tfidf_matrix = vectorizer.fit_transform(all_docs)"
   ]
  },
  {
   "cell_type": "code",
   "execution_count": null,
   "id": "46efc660",
   "metadata": {},
   "outputs": [],
   "source": [
    "# Similarity\n",
    "similarities = cosine_similarity(tfidf_matrix[0:1], tfidf_matrix[1:])[0]\n",
    "for i, score in enumerate(similarities):\n",
    "    print(f\"Resume {i+1} similarity score: {score:.2f}\")"
   ]
  },
  {
   "cell_type": "code",
   "execution_count": null,
   "id": "284abd02",
   "metadata": {},
   "outputs": [],
   "source": [
    "# Named entity extraction\n",
    "print(\"\\n🔍 JD Keywords:\", extract_keywords(jd))"
   ]
  }
 ],
 "metadata": {
  "kernelspec": {
   "display_name": "base",
   "language": "python",
   "name": "python3"
  },
  "language_info": {
   "name": "python",
   "version": "3.11.7"
  }
 },
 "nbformat": 4,
 "nbformat_minor": 5
}
